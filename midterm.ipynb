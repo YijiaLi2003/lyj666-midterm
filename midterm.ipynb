{
 "cells": [
  {
   "cell_type": "markdown",
   "metadata": {},
   "source": [
    "# Libraries"
   ]
  },
  {
   "cell_type": "code",
   "execution_count": 28,
   "metadata": {},
   "outputs": [
    {
     "name": "stderr",
     "output_type": "stream",
     "text": [
      "[nltk_data] Downloading package stopwords to\n",
      "[nltk_data]     C:\\Users\\27366\\AppData\\Roaming\\nltk_data...\n",
      "[nltk_data]   Package stopwords is already up-to-date!\n"
     ]
    }
   ],
   "source": [
    "import pandas as pd\n",
    "import seaborn as sns\n",
    "import matplotlib.pyplot as plt\n",
    "from sklearn.model_selection import train_test_split\n",
    "from sklearn.metrics import accuracy_score, confusion_matrix, classification_report\n",
    "from sklearn.feature_extraction.text import TfidfVectorizer\n",
    "from sklearn.decomposition import TruncatedSVD\n",
    "from sklearn.preprocessing import MaxAbsScaler\n",
    "from sklearn.naive_bayes import MultinomialNB\n",
    "from sklearn.svm import LinearSVC\n",
    "from sklearn.tree import DecisionTreeClassifier\n",
    "from sklearn.linear_model import LogisticRegression\n",
    "from sklearn.ensemble import GradientBoostingClassifier, RandomForestClassifier\n",
    "from sklearn.utils import class_weight\n",
    "from sklearn.feature_selection import SelectKBest, chi2\n",
    "import numpy as np\n",
    "import nltk\n",
    "from nltk.corpus import stopwords\n",
    "from nltk.stem import SnowballStemmer\n",
    "import re\n",
    "import xgboost as xgb\n",
    "\n",
    "nltk.download('stopwords')\n",
    "stemmer = SnowballStemmer('english')\n",
    "stop_words = set(stopwords.words('english'))"
   ]
  },
  {
   "cell_type": "markdown",
   "metadata": {},
   "source": [
    "# Loading the Files\n",
    "\n",
    "Download the csv files into the `data/` directory."
   ]
  },
  {
   "cell_type": "code",
   "execution_count": 21,
   "metadata": {},
   "outputs": [
    {
     "name": "stdout",
     "output_type": "stream",
     "text": [
      "train.csv shape is  (1697533, 9)\n",
      "test.csv shape is  (212192, 2)\n",
      "\n",
      "        Id   ProductId          UserId  HelpfulnessNumerator  \\\n",
      "0   914403  B0009W5KHM   AV6QDP8Q0ONK4                     2   \n",
      "1   354887  6303079709  A2I8RXJN80A2D2                     0   \n",
      "2  1407653  B004H0M2XC  A3FHV3RV8Z12E6                     0   \n",
      "3  1377458  B003ZJ9536  A12VLTA3ZHVPUY                     1   \n",
      "4   475323  630574453X  A13NM1PES9OXVN                     2   \n",
      "\n",
      "   HelpfulnessDenominator        Time  \\\n",
      "0                       2  1341014400   \n",
      "1                       0  1168819200   \n",
      "2                       0  1386201600   \n",
      "3                       1  1348704000   \n",
      "4                       3   970012800   \n",
      "\n",
      "                                         Summary  \\\n",
      "0                                  GOOD FUN FILM   \n",
      "1                                   Movie Review   \n",
      "2             When is it a good time to Consent?   \n",
      "3                                          TRUTH   \n",
      "4  Intelligent and bittersweet -- stays with you   \n",
      "\n",
      "                                                Text  Score  \n",
      "0  While most straight to DVD films are not worth...    5.0  \n",
      "1  I have wanted this one for sometime, also.  I ...    5.0  \n",
      "2  Actually this was a pretty darn good indie fil...    4.0  \n",
      "3  Episodes 37 to 72 of the series press on in a ...    5.0  \n",
      "4  I was really impressed with this movie, but wa...    3.0  \n",
      "\n",
      "        Id  Score\n",
      "0  1323432    NaN\n",
      "1  1137299    NaN\n",
      "2  1459366    NaN\n",
      "3   931601    NaN\n",
      "4  1311995    NaN\n",
      "\n",
      "                 Id  HelpfulnessNumerator  HelpfulnessDenominator  \\\n",
      "count  1.697533e+06          1.697533e+06            1.697533e+06   \n",
      "mean   8.487660e+05          3.569048e+00            5.301422e+00   \n",
      "std    4.900357e+05          1.727883e+01            2.024445e+01   \n",
      "min    0.000000e+00          0.000000e+00            0.000000e+00   \n",
      "25%    4.243830e+05          0.000000e+00            0.000000e+00   \n",
      "50%    8.487660e+05          1.000000e+00            1.000000e+00   \n",
      "75%    1.273149e+06          3.000000e+00            5.000000e+00   \n",
      "max    1.697532e+06          6.084000e+03            6.510000e+03   \n",
      "\n",
      "               Time         Score  \n",
      "count  1.697533e+06  1.485341e+06  \n",
      "mean   1.262422e+09  4.110517e+00  \n",
      "std    1.289277e+08  1.197651e+00  \n",
      "min    8.793792e+08  1.000000e+00  \n",
      "25%    1.164413e+09  4.000000e+00  \n",
      "50%    1.307491e+09  5.000000e+00  \n",
      "75%    1.373242e+09  5.000000e+00  \n",
      "max    1.406074e+09  5.000000e+00  \n"
     ]
    },
    {
     "data": {
      "image/png": "[encoded data removed]",
      "text/plain": [
       "<Figure size 432x288 with 1 Axes>"
      ]
     },
     "metadata": {
      "needs_background": "light"
     },
     "output_type": "display_data"
    },
    {
     "name": "stdout",
     "output_type": "stream",
     "text": [
      "\n",
      "EVERYTHING IS PROPERLY SET UP! YOU ARE READY TO START\n"
     ]
    }
   ],
   "source": [
    "\n",
    "trainingSet = pd.read_csv(\"./data/train.csv\")\n",
    "testingSet = pd.read_csv(\"./data/test.csv\")\n",
    "\n",
    "print(\"train.csv shape is \", trainingSet.shape)\n",
    "print(\"test.csv shape is \", testingSet.shape)\n",
    "\n",
    "print()\n",
    "\n",
    "print(trainingSet.head())\n",
    "print()\n",
    "print(testingSet.head())\n",
    "\n",
    "print()\n",
    "\n",
    "print(trainingSet.describe())\n",
    "\n",
    "trainingSet['Score'].value_counts().plot(kind='bar', legend=True, alpha=.5)\n",
    "plt.title('Distribution of Scores in Training Set')\n",
    "plt.xlabel('Score')\n",
    "plt.ylabel('Count')\n",
    "plt.show()\n",
    "\n",
    "print()\n",
    "print(\"EVERYTHING IS PROPERLY SET UP! YOU ARE READY TO START\")"
   ]
  },
  {
   "cell_type": "markdown",
   "metadata": {},
   "source": [
    "# Adding Features"
   ]
  },
  {
   "cell_type": "code",
   "execution_count": 22,
   "metadata": {},
   "outputs": [],
   "source": [
    "def preprocess_text(text):\n",
    "    text = text.lower()\n",
    "    text = re.sub(r'[^a-zA-Z\\s]', '', text)\n",
    "    tokens = [word for word in text.split() if word not in stop_words]\n",
    "    tokens = [stemmer.stem(word) for word in tokens]\n",
    "    return ' '.join(tokens)\n",
    "\n",
    "def add_features_to(df, score_averages):\n",
    "    df = df.copy()  \n",
    "    df['Helpfulness'] = df['HelpfulnessNumerator'] / df['HelpfulnessDenominator']\n",
    "    df['Helpfulness'] = df['Helpfulness'].fillna(0)\n",
    "    df['Text'] = df['Text'].fillna('')\n",
    "    df['Summary'] = df['Summary'].fillna('')\n",
    "    df['Combined_Text'] = df['Summary'] + ' ' + df['Text']\n",
    "    df['Combined_Text'] = df['Combined_Text'].apply(preprocess_text)\n",
    "    df['Review_Length'] = df['Text'].apply(lambda x: len(x.split()))\n",
    "    df['Word_Count'] = df['Combined_Text'].apply(lambda x: len(x.split()))\n",
    "    df['Char_Count'] = df['Combined_Text'].apply(lambda x: len(x))\n",
    "    df['Review_Year'] = pd.to_datetime(df['Time'], unit='s').dt.year\n",
    "    df = df.merge(score_averages['Product'], on='ProductId', how='left')\n",
    "    df['Avg_Product_Score'] = df['Avg_Product_Score'].fillna(trainingSet['Score'].mean())\n",
    "    df = df.merge(score_averages['User'], on='UserId', how='left')\n",
    "    df['Avg_User_Score'] = df['Avg_User_Score'].fillna(trainingSet['Score'].mean())\n",
    "    return df\n",
    "\n",
    "def compute_score_averages(df):\n",
    "    product_avg = df.groupby('ProductId')['Score'].mean().reset_index()\n",
    "    product_avg.columns = ['ProductId', 'Avg_Product_Score']\n",
    "    user_avg = df.groupby('UserId')['Score'].mean().reset_index()\n",
    "    user_avg.columns = ['UserId', 'Avg_User_Score']\n",
    "    return {'Product': product_avg, 'User': user_avg}"
   ]
  },
  {
   "cell_type": "markdown",
   "metadata": {},
   "source": [
    "# Sample + Split into training and testing set"
   ]
  },
  {
   "cell_type": "code",
   "execution_count": 23,
   "metadata": {},
   "outputs": [],
   "source": [
    "train_data = trainingSet[trainingSet['Score'].notnull()]\n",
    "score_averages = compute_score_averages(train_data)\n",
    "train = add_features_to(train_data, score_averages)\n",
    "\n",
    "test = pd.merge(testingSet, trainingSet[['Id', 'ProductId', 'UserId', 'HelpfulnessNumerator',\n",
    "                                         'HelpfulnessDenominator', 'Summary', 'Text', 'Time']], on='Id', how='left')\n",
    "test = add_features_to(test, score_averages)\n",
    "\n",
    "X = train\n",
    "Y = X['Score'].astype(int) - 1 \n",
    "\n",
    "classes = np.unique(Y)\n",
    "class_weights = class_weight.compute_class_weight('balanced', classes=classes, y=Y)\n",
    "class_weight_dict = dict(zip(classes, class_weights))\n",
    "\n",
    "X_train, X_val, Y_train, Y_val = train_test_split(\n",
    "    X, Y, test_size=0.2, random_state=42, stratify=Y\n",
    ")\n"
   ]
  },
  {
   "cell_type": "markdown",
   "metadata": {},
   "source": [
    "# Feature Selection"
   ]
  },
  {
   "cell_type": "code",
   "execution_count": 24,
   "metadata": {},
   "outputs": [],
   "source": [
    "numeric_features = ['HelpfulnessNumerator', 'HelpfulnessDenominator', 'Helpfulness',\n",
    "                    'Review_Length', 'Avg_Product_Score', 'Avg_User_Score',\n",
    "                    'Word_Count', 'Char_Count', 'Review_Year']\n",
    "\n",
    "tfidf = TfidfVectorizer(max_features=10000, stop_words='english', ngram_range=(1, 3),\n",
    "                        sublinear_tf=True, max_df=0.95, min_df=2)\n",
    "tfidf.fit(X_train['Combined_Text'])\n",
    "X_train_tfidf = tfidf.transform(X_train['Combined_Text'])\n",
    "X_val_tfidf = tfidf.transform(X_val['Combined_Text'])\n",
    "X_test_tfidf = tfidf.transform(test['Combined_Text'])\n",
    "\n",
    "chi2_selector = SelectKBest(chi2, k=5000)\n",
    "X_train_tfidf = chi2_selector.fit_transform(X_train_tfidf, Y_train)\n",
    "X_val_tfidf = chi2_selector.transform(X_val_tfidf)\n",
    "X_test_tfidf = chi2_selector.transform(X_test_tfidf)\n",
    "\n",
    "svd = TruncatedSVD(n_components=200, random_state=42)\n",
    "X_train_svd = svd.fit_transform(X_train_tfidf)\n",
    "X_val_svd = svd.transform(X_val_tfidf)\n",
    "X_test_svd = svd.transform(X_test_tfidf)\n",
    "\n",
    "X_train_numeric = X_train[numeric_features].fillna(0)\n",
    "X_val_numeric = X_val[numeric_features].fillna(0)\n",
    "X_test_numeric = test[numeric_features].fillna(0)\n",
    "scaler = MaxAbsScaler()\n",
    "X_train_numeric_scaled = scaler.fit_transform(X_train_numeric)\n",
    "X_val_numeric_scaled = scaler.transform(X_val_numeric)\n",
    "X_test_numeric_scaled = scaler.transform(X_test_numeric)\n",
    "\n",
    "X_train_combined = np.hstack((X_train_numeric_scaled, X_train_svd))\n",
    "X_val_combined = np.hstack((X_val_numeric_scaled, X_val_svd))\n",
    "X_test_combined = np.hstack((X_test_numeric_scaled, X_test_svd))"
   ]
  },
  {
   "cell_type": "markdown",
   "metadata": {},
   "source": [
    "# Model Creation"
   ]
  },
  {
   "cell_type": "code",
   "execution_count": 25,
   "metadata": {},
   "outputs": [
    {
     "name": "stdout",
     "output_type": "stream",
     "text": [
      "Training MultinomialNB...\n",
      "Training LinearSVC...\n",
      "Training DecisionTreeClassifier...\n",
      "Training LogisticRegression...\n",
      "Training RandomForestClassifier...\n",
      "Training XGBoost Classifier...\n",
      "Generating validation predictions...\n",
      "Training meta-model...\n"
     ]
    },
    {
     "data": {
      "text/plain": [
       "GradientBoostingClassifier(random_state=42)"
      ]
     },
     "execution_count": 25,
     "metadata": {},
     "output_type": "execute_result"
    }
   ],
   "source": [
    "nb_model = MultinomialNB()  \n",
    "svm_model = LinearSVC(max_iter=10000, class_weight=class_weight_dict)\n",
    "tree_model = DecisionTreeClassifier(max_depth=10, class_weight=class_weight_dict)\n",
    "logreg_model = LogisticRegression(\n",
    "    max_iter=5000,  \n",
    "    class_weight=class_weight_dict,\n",
    "    multi_class='multinomial',\n",
    "    solver='saga', \n",
    "    n_jobs=-1\n",
    ")\n",
    "rf_model = RandomForestClassifier(\n",
    "    n_estimators=200,\n",
    "    class_weight=class_weight_dict,\n",
    "    n_jobs=-1,\n",
    "    random_state=42\n",
    ")\n",
    "xgb_model = xgb.XGBClassifier(\n",
    "    n_estimators=100,\n",
    "    max_depth=6,\n",
    "    learning_rate=0.1,\n",
    "    subsample=0.8,\n",
    "    colsample_bytree=0.8,\n",
    "    scale_pos_weight=1,\n",
    "    random_state=42,\n",
    "    n_jobs=-1\n",
    ")\n",
    "\n",
    "meta_model = GradientBoostingClassifier(random_state=42) \n",
    "\n",
    "print(\"Training MultinomialNB...\")\n",
    "nb_model.fit(X_train_tfidf, Y_train)\n",
    "\n",
    "print(\"Training LinearSVC...\")\n",
    "svm_model.fit(X_train_combined, Y_train)\n",
    "\n",
    "print(\"Training DecisionTreeClassifier...\")\n",
    "tree_model.fit(X_train_combined, Y_train)\n",
    "\n",
    "print(\"Training LogisticRegression...\")\n",
    "logreg_model.fit(X_train_combined, Y_train)\n",
    "\n",
    "print(\"Training RandomForestClassifier...\")\n",
    "rf_model.fit(X_train_combined, Y_train)\n",
    "\n",
    "print(\"Training XGBoost Classifier...\")\n",
    "xgb_model.fit(X_train_combined, Y_train)\n",
    "\n",
    "print(\"Generating validation predictions...\")\n",
    "Y_val_nb_pred = nb_model.predict(X_val_tfidf).reshape(-1, 1)\n",
    "Y_val_svm_pred = svm_model.predict(X_val_combined).reshape(-1, 1)\n",
    "Y_val_tree_pred = tree_model.predict(X_val_combined).reshape(-1, 1)\n",
    "Y_val_logreg_pred = logreg_model.predict(X_val_combined).reshape(-1, 1)\n",
    "Y_val_rf_pred = rf_model.predict(X_val_combined).reshape(-1, 1)\n",
    "Y_val_xgb_pred = xgb_model.predict(X_val_combined).reshape(-1, 1)\n",
    "\n",
    "stacked_val_features = np.hstack((Y_val_nb_pred, Y_val_svm_pred, Y_val_tree_pred,\n",
    "                                  Y_val_logreg_pred, Y_val_rf_pred, Y_val_xgb_pred))\n",
    "\n",
    "print(\"Training meta-model...\")\n",
    "meta_model.fit(stacked_val_features, Y_val)"
   ]
  },
  {
   "cell_type": "markdown",
   "metadata": {},
   "source": [
    "# Model Evaluation"
   ]
  },
  {
   "cell_type": "code",
   "execution_count": 26,
   "metadata": {},
   "outputs": [
    {
     "name": "stdout",
     "output_type": "stream",
     "text": [
      "Final Stacked Model Accuracy on validation set =  0.6689826269317902\n",
      "Classification Report:\n",
      "              precision    recall  f1-score   support\n",
      "\n",
      "           1       0.64      0.71      0.67     18238\n",
      "           2       0.43      0.25      0.32     17936\n",
      "           3       0.45      0.35      0.40     35216\n",
      "           4       0.49      0.42      0.45     67046\n",
      "           5       0.77      0.89      0.83    158633\n",
      "\n",
      "    accuracy                           0.67    297069\n",
      "   macro avg       0.56      0.52      0.53    297069\n",
      "weighted avg       0.64      0.67      0.65    297069\n",
      "\n"
     ]
    },
    {
     "data": {
      "image/png": "[encoded data removed]",
      "text/plain": [
       "<Figure size 432x288 with 2 Axes>"
      ]
     },
     "metadata": {
      "needs_background": "light"
     },
     "output_type": "display_data"
    },
    {
     "name": "stdout",
     "output_type": "stream",
     "text": [
      "Generating test predictions...\n"
     ]
    }
   ],
   "source": [
    "Y_val_meta_pred = meta_model.predict(stacked_val_features) + 1  \n",
    "\n",
    "accuracy = accuracy_score(Y_val + 1, Y_val_meta_pred)\n",
    "print(\"Final Stacked Model Accuracy on validation set = \", accuracy)\n",
    "print(\"Classification Report:\")\n",
    "print(classification_report(Y_val + 1, Y_val_meta_pred))\n",
    "\n",
    "cm = confusion_matrix(Y_val + 1, Y_val_meta_pred, normalize='true')\n",
    "sns.heatmap(cm, annot=True)\n",
    "plt.title('Confusion Matrix of Final Stacked Model')\n",
    "plt.xlabel('Predicted')\n",
    "plt.ylabel('True')\n",
    "plt.show()\n",
    "\n",
    "print(\"Generating test predictions...\")\n",
    "Y_test_nb_pred = nb_model.predict(X_test_tfidf).reshape(-1, 1)\n",
    "Y_test_svm_pred = svm_model.predict(X_test_combined).reshape(-1, 1)\n",
    "Y_test_tree_pred = tree_model.predict(X_test_combined).reshape(-1, 1)\n",
    "Y_test_logreg_pred = logreg_model.predict(X_test_combined).reshape(-1, 1)\n",
    "Y_test_rf_pred = rf_model.predict(X_test_combined).reshape(-1, 1)\n",
    "Y_test_xgb_pred = xgb_model.predict(X_test_combined).reshape(-1, 1)\n",
    "\n",
    "stacked_test_features = np.hstack((Y_test_nb_pred, Y_test_svm_pred, Y_test_tree_pred,\n",
    "                                   Y_test_logreg_pred, Y_test_rf_pred, Y_test_xgb_pred))\n",
    "Y_test_final_pred = meta_model.predict(stacked_test_features) + 1 \n"
   ]
  },
  {
   "cell_type": "markdown",
   "metadata": {},
   "source": [
    "# Create submission file"
   ]
  },
  {
   "cell_type": "code",
   "execution_count": 27,
   "metadata": {},
   "outputs": [
    {
     "name": "stdout",
     "output_type": "stream",
     "text": [
      "Submission file created at './data/submission.csv'\n"
     ]
    }
   ],
   "source": [
    "submission = pd.DataFrame({\n",
    "    'Id': test['Id'],\n",
    "    'Score': Y_test_final_pred\n",
    "})\n",
    "submission.to_csv(\"./data/submission.csv\", index=False)\n",
    "print(\"Submission file created at './data/submission.csv'\")"
   ]
  }
 ],
 "metadata": {
  "kernelspec": {
   "display_name": "base",
   "language": "python",
   "name": "python3"
  },
  "language_info": {
   "codemirror_mode": {
    "name": "ipython",
    "version": 3
   },
   "file_extension": ".py",
   "mimetype": "text/x-python",
   "name": "python",
   "nbconvert_exporter": "python",
   "pygments_lexer": "ipython3",
   "version": "3.9.12"
  }
 },
 "nbformat": 4,
 "nbformat_minor": 2
}
